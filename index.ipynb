{
 "cells": [
  {
   "cell_type": "code",
   "execution_count": null,
   "metadata": {},
   "outputs": [],
   "source": [
    "#hide\n",
    "from your_lib.core import *"
   ]
  },
  {
   "cell_type": "markdown",
   "metadata": {},
   "source": [
    "# nbdev async issues\n",
    "\n",
    "> Bleeding on the bleeding edge"
   ]
  },
  {
   "cell_type": "markdown",
   "metadata": {},
   "source": [
    "## Install"
   ]
  },
  {
   "cell_type": "markdown",
   "metadata": {},
   "source": [
    "`Don't`"
   ]
  },
  {
   "cell_type": "markdown",
   "metadata": {},
   "source": [
    "## How to use"
   ]
  },
  {
   "cell_type": "markdown",
   "metadata": {},
   "source": [
    "(https://github.com/fastai/nbdev/issues/327). This is a bare-bones example of attempting to produce documentation for an nbdev Notebook with an async function. If you are an nbdev developer, follow [this link] for the open Github issue, also documented below."
   ]
  },
  {
   "cell_type": "markdown",
   "metadata": {},
   "source": [
    "This may be the same issue. I'm on Windows 10 with WSL2. On Linux I'm running Ubuntu 20.04.4 LTS. I use Jupyter Desktop Version 3.3.2-2. I'm on nbdev 1.2.5 on both the Linux and Windows sides. So I do Notebooks under Windows Desktop JupyterLab and the nbdev_[commands] under WSL2/Linux/focal 20.04.4. The problem is extremely consistent and reproducible.\n",
    "\n",
    "The process is:\n",
    "\n",
    "    Make new folder.\n",
    "    Create Notebook.\n",
    "    Turn it into git repo.\n",
    "    Add git endpoint.\n",
    "    Run nbdev_new.\n",
    "    Put in hidden showdoc block.\n",
    "    Add an async function to an export cell.\n",
    "    Attempt running nbdev_build_docs. Get this error:\n",
    "\n",
    "```bash\n",
    "(py310) ubuntu@LunderVand:/mnt/c/Users/mikle/github/issues$ git branch -M main\n",
    "(py310) ubuntu@LunderVand:/mnt/c/Users/mikle/github/issues$ git remote add origin git@github.com:miklevin/issues.git\n",
    "(py310) ubuntu@LunderVand:/mnt/c/Users/mikle/github/issues$ nbdev_new\n",
    "Executing: git config --local include.path ../.gitconfig\n",
    "Success: hooks are installed and repo's .gitconfig is now trusted\n",
    "(py310) ubuntu@LunderVand:/mnt/c/Users/mikle/github/issues$ nbdev_build_docs\n",
    "converting: /mnt/c/Users/mikle/github/issues/index.ipynb\n",
    "converting: /mnt/c/Users/mikle/github/issues/Untitled.ipynb\n",
    "An error occurred while executing the following cell:\n",
    "------------------\n",
    "show_doc(foo, default_cls_level=2, show_all_docments=False)\n",
    "------------------\n",
    "\n",
    "---------------------------------------------------------------------------\n",
    "NameError                                 Traceback (most recent call last)\n",
    "/tmp/ipykernel_3836/4040911153.py in <module>\n",
    "----> 1 show_doc(foo, default_cls_level=2, show_all_docments=False)\n",
    "\n",
    "NameError: name 'foo' is not defined\n",
    "NameError: name 'foo' is not defined\n",
    "\n",
    "Conversion failed on the following:\n",
    "Untitled.ipynb\n",
    "Traceback (most recent call last):\n",
    "  File \"/home/ubuntu/py310/bin/nbdev_build_docs\", line 8, in <module>\n",
    "    sys.exit(nbdev_build_docs())\n",
    "  File \"/home/ubuntu/py310/lib/python3.10/site-packages/fastcore/script.py\", line 113, in _f\n",
    "    tfunc(**merge(args, args_from_prog(func, xtra)))\n",
    "  File \"/home/ubuntu/py310/lib/python3.10/site-packages/nbdev/export2html.py\", line 649, in nbdev_build_docs\n",
    "    if fname is None: make_sidebar()\n",
    "  File \"/home/ubuntu/py310/lib/python3.10/site-packages/nbdev/export2html.py\", line 717, in make_sidebar\n",
    "    create_default_sidebar()\n",
    "  File \"/home/ubuntu/py310/lib/python3.10/site-packages/nbdev/export2html.py\", line 709, in create_default_sidebar\n",
    "    dic = {get_config().lib_name: _create_default_sidebar()}\n",
    "  File \"/home/ubuntu/py310/lib/python3.10/site-packages/nbdev/export2html.py\", line 701, in _create_default_sidebar\n",
    "    for t,f in groupby(names, _get_title).items():\n",
    "  File \"/home/ubuntu/py310/lib/python3.10/site-packages/fastcore/basics.py\", line 536, in groupby\n",
    "    for o in x: res.setdefault(key(o), []).append(val(o))\n",
    "  File \"/home/ubuntu/py310/lib/python3.10/site-packages/nbdev/export2html.py\", line 690, in _get_title\n",
    "    with open(fname, 'r') as f: code = f.read()\n",
    "FileNotFoundError: [Errno 2] No such file or directory: '/mnt/c/Users/mikle/github/issues/docs/Untitled.html'\n",
    "(py310) ubuntu@LunderVand:/mnt/c/Users/mikle/github/issues\n",
    "```\n",
    "\n",
    "<img src=\"nbdev_async.png\" />"
   ]
  },
  {
   "cell_type": "code",
   "execution_count": null,
   "metadata": {},
   "outputs": [],
   "source": []
  }
 ],
 "metadata": {
  "kernelspec": {
   "display_name": "Python 3 (ipykernel)",
   "language": "python",
   "name": "python3"
  }
 },
 "nbformat": 4,
 "nbformat_minor": 4
}
