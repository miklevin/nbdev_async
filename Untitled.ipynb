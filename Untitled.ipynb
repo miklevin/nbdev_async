{
 "cells": [
  {
   "cell_type": "code",
   "execution_count": null,
   "id": "3c9d0417-f147-4987-9c36-804e0ce6c299",
   "metadata": {},
   "outputs": [],
   "source": [
    "#hide\n",
    "from nbdev.showdoc import *"
   ]
  },
  {
   "cell_type": "code",
   "execution_count": null,
   "id": "cb3335d1-7756-4da7-9149-cd0daf06ada6",
   "metadata": {},
   "outputs": [],
   "source": [
    "# export\n",
    "\n",
    "async def foo():\n",
    "    return 'bar'"
   ]
  },
  {
   "cell_type": "code",
   "execution_count": null,
   "id": "1895f298-238d-4289-983e-69dacc31ecb2",
   "metadata": {},
   "outputs": [],
   "source": []
  }
 ],
 "metadata": {
  "kernelspec": {
   "display_name": "Python 3 (ipykernel)",
   "language": "python",
   "name": "python3"
  }
 },
 "nbformat": 4,
 "nbformat_minor": 5
}
